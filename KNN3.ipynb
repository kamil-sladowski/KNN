{
  "nbformat": 4,
  "nbformat_minor": 0,
  "metadata": {
    "colab": {
      "name": "KNN3.ipynb",
      "provenance": [],
      "collapsed_sections": [],
      "authorship_tag": "ABX9TyPdHK+JsciYPMWckKgtuKMY",
      "include_colab_link": true
    },
    "kernelspec": {
      "name": "python3",
      "display_name": "Python 3"
    },
    "accelerator": "GPU"
  },
  "cells": [
    {
      "cell_type": "markdown",
      "metadata": {
        "id": "view-in-github",
        "colab_type": "text"
      },
      "source": [
        "<a href=\"https://colab.research.google.com/github/kamilo116/KNN/blob/master/KNN3.ipynb\" target=\"_parent\"><img src=\"https://colab.research.google.com/assets/colab-badge.svg\" alt=\"Open In Colab\"/></a>"
      ]
    },
    {
      "cell_type": "code",
      "metadata": {
        "id": "W7ReM7FU-xs4",
        "colab_type": "code",
        "colab": {}
      },
      "source": [
        "import numpy as np \n",
        "import pandas as pd\n",
        "import os\n",
        "import csv\n",
        "import sys\n",
        "from PIL import Image\n",
        "import matplotlib.pyplot as plt\n",
        "import matplotlib.image as mpimg\n",
        "from matplotlib.pyplot import imshow\n",
        "%matplotlib inline\n",
        "from sklearn.model_selection import train_test_split\n",
        "\n",
        "import torch\n",
        "from torch.utils.data import TensorDataset, DataLoader,Dataset\n",
        "from torch.utils.data.sampler import SubsetRandomSampler\n",
        "\n",
        "import torch.nn as nn\n",
        "import torch.optim as optim\n",
        "from torch.autograd import Variable\n",
        "from torch.utils.data import DataLoader\n",
        "from torch.utils.data import sampler\n",
        "import torchvision\n",
        "import torchvision.datasets as dset\n",
        "import torchvision.transforms as T\n",
        "import torchvision.transforms as transforms\n",
        "from torchvision import models\n",
        "import timeit\n",
        "\n",
        "np.random.seed(4) \n",
        "torch.manual_seed(4) \n",
        "torch.cuda.manual_seed(4)"
      ],
      "execution_count": 0,
      "outputs": []
    },
    {
      "cell_type": "code",
      "metadata": {
        "id": "tMOHez_kHZD6",
        "colab_type": "code",
        "outputId": "95c0352a-3e10-4e8a-e594-e81297f4cfba",
        "colab": {
          "base_uri": "https://localhost:8080/",
          "height": 34
        }
      },
      "source": [
        "from google.colab import drive, files\n",
        "drive.mount('/content/drive')"
      ],
      "execution_count": 4,
      "outputs": [
        {
          "output_type": "stream",
          "text": [
            "Drive already mounted at /content/drive; to attempt to forcibly remount, call drive.mount(\"/content/drive\", force_remount=True).\n"
          ],
          "name": "stdout"
        }
      ]
    },
    {
      "cell_type": "code",
      "metadata": {
        "id": "fYIMZ8QyYewD",
        "colab_type": "code",
        "outputId": "596e5f14-534e-47f1-f9c0-df8ac22e6f47",
        "colab": {
          "base_uri": "https://localhost:8080/",
          "height": 34
        }
      },
      "source": [
        "! git clone https://github.com/wang-chen/kervolution.git \n",
        "\n",
        "sys.path.append(\"kervolution/\")\n",
        "from kervolution import Kerv2d\n"
      ],
      "execution_count": 5,
      "outputs": [
        {
          "output_type": "stream",
          "text": [
            "fatal: destination path 'kervolution' already exists and is not an empty directory.\n"
          ],
          "name": "stdout"
        }
      ]
    },
    {
      "cell_type": "code",
      "metadata": {
        "id": "7b8P1NdXfVdX",
        "colab_type": "code",
        "outputId": "959b6577-3173-41eb-aca9-75974a0ff913",
        "colab": {
          "base_uri": "https://localhost:8080/",
          "height": 51
        }
      },
      "source": [
        "MALIGNANT_DATASET = '/content/drive/My Drive/Colab_data/malignant/malignant/'\n",
        "BENIGN_DATASET = '/content/drive/My Drive/Colab_data/benign/benign/'\n",
        "DATA_FOLDER = '/content/drive/My Drive/Colab_data/'\n",
        "benign_file_list = os.listdir(BENIGN_DATASET)\n",
        "malignant_file_list = os.listdir(MALIGNANT_DATASET)\n",
        "\n",
        "print(f\"Number of benign {len(benign_file_list)} images\")\n",
        "print(f\"Number of malignant {len(malignant_file_list)} images\")\n",
        "\n",
        "data_transforms = transforms.Compose([\n",
        "    transforms.Resize((64, 64)),\n",
        "    transforms.RandomHorizontalFlip(),\n",
        "    transforms.RandomVerticalFlip(),\n",
        "    transforms.ToTensor(),\n",
        "    transforms.Normalize((0.5, 0.5, 0.5), (0.5, 0.5, 0.5))\n",
        "    ])\n",
        "\n"
      ],
      "execution_count": 6,
      "outputs": [
        {
          "output_type": "stream",
          "text": [
            "Number of benign 1472 images\n",
            "Number of malignant 1293 images\n"
          ],
          "name": "stdout"
        }
      ]
    },
    {
      "cell_type": "code",
      "metadata": {
        "id": "GGDQfal74BLi",
        "colab_type": "code",
        "colab": {}
      },
      "source": [
        "LIMIT_IMAGES_NUM = 800\n",
        "benign_dict = {filename: 0 for filename in benign_file_list[:LIMIT_IMAGES_NUM]}\n",
        "malignant_dict = {filename: 1 for filename in malignant_file_list[:LIMIT_IMAGES_NUM]}\n",
        "img_class_dict = {**benign_dict , **malignant_dict}\n",
        "labeled_data = pd.Series(img_class_dict)"
      ],
      "execution_count": 0,
      "outputs": []
    },
    {
      "cell_type": "code",
      "metadata": {
        "id": "nvAAOqmVfVll",
        "colab_type": "code",
        "colab": {}
      },
      "source": [
        "class IsicDataset(Dataset):\n",
        "    def __init__(self, data_folder, labeled_data, \n",
        "                 transform=transforms.Compose([transforms.ToTensor()])):\n",
        "        self.labeled_data = labeled_data\n",
        "        self.transform = transform\n",
        "        self.data_folder = data_folder\n",
        "        \n",
        "        \n",
        "    def __len__(self):\n",
        "        return len(self.labeled_data)\n",
        "\n",
        "    def __getitem__(self, index):\n",
        "        label = self.labeled_data[index]\n",
        "        if label == 0:\n",
        "          image = Image.open(os.path.join(self.data_folder, \"benign\", \"benign\", index ))\n",
        "        else:\n",
        "          image = Image.open(os.path.join(self.data_folder, \"malignant\", \"malignant\", index ))\n",
        "        image = self.transform(image)\n",
        "        return image, label\n",
        "\n",
        "    @property\n",
        "    def labels(self):\n",
        "      return self.labeled_data\n"
      ],
      "execution_count": 0,
      "outputs": []
    },
    {
      "cell_type": "code",
      "metadata": {
        "id": "kSuYqjLAYrWA",
        "colab_type": "code",
        "outputId": "b53b6965-7cef-4947-dbfb-7568d580d40d",
        "colab": {
          "base_uri": "https://localhost:8080/",
          "height": 255
        }
      },
      "source": [
        " \n",
        "dataset = IsicDataset(DATA_FOLDER, labeled_data, transform=data_transforms)\n",
        "print(dataset.labels)\n",
        "\n",
        "X_train, X_test = train_test_split(dataset.labels, test_size=0.2)\n",
        "print(\"number of training data: \",len(X_train))\n",
        "print(\"number of testing  data: \",len(X_test))\n",
        "\n",
        "train_sampler = SubsetRandomSampler(list(X_train.index))\n",
        "valid_sampler = SubsetRandomSampler(list(X_test.index))\n",
        "batch_size = 64\n",
        "num_workers = 0\n",
        "\n",
        "train_loader = torch.utils.data.DataLoader(dataset, batch_size=batch_size, sampler=train_sampler, num_workers=num_workers)\n",
        "valid_loader = torch.utils.data.DataLoader(dataset, batch_size=batch_size, sampler=valid_sampler, num_workers=num_workers)\n",
        "\n"
      ],
      "execution_count": 9,
      "outputs": [
        {
          "output_type": "stream",
          "text": [
            "ISIC_0000714.jpeg    0\n",
            "ISIC_0000720.jpeg    0\n",
            "ISIC_0000721.jpeg    0\n",
            "ISIC_0000681.jpeg    0\n",
            "ISIC_0000715.jpeg    0\n",
            "                    ..\n",
            "ISIC_0000169.jpeg    1\n",
            "ISIC_0000293.jpeg    1\n",
            "ISIC_0000280.jpeg    1\n",
            "ISIC_0000167.jpeg    1\n",
            "ISIC_0000296.jpeg    1\n",
            "Length: 1600, dtype: int64\n",
            "number of training data:  1280\n",
            "number of testing  data:  320\n"
          ],
          "name": "stdout"
        }
      ]
    },
    {
      "cell_type": "code",
      "metadata": {
        "id": "_e8nFBR6Yug5",
        "colab_type": "code",
        "colab": {}
      },
      "source": [
        "avg_loss_list = []\n",
        "acc_list = []\n",
        "\n",
        "def train(model, train_loader ,loss_fn, optimizer, num_epochs = 1):\n",
        "    total_loss =0\n",
        "\n",
        "    for epoch in range(num_epochs):\n",
        "        print('Starting epoch %d / %d' % (epoch + 1, num_epochs))\n",
        "        model.train()\n",
        "\n",
        "        for t, (x, y) in enumerate(train_loader):\n",
        "            x_var = Variable(x.type(gpu_dtype))\n",
        "            y_var = Variable(y.type(gpu_dtype).long())\n",
        "            scores = model(x_var)\n",
        "            loss = loss_fn(scores, y_var)\n",
        "            total_loss += loss.data\n",
        "            \n",
        "            if (t + 1) % print_every == 0:\n",
        "                avg_loss = total_loss/print_every\n",
        "                print('t = %d, avg_loss = %.4f' % (t + 1, avg_loss) )\n",
        "                avg_loss_list.append(avg_loss)\n",
        "                total_loss = 0\n",
        "                \n",
        "\n",
        "            optimizer.zero_grad()\n",
        "            loss.backward()\n",
        "            optimizer.step()\n",
        "        acc = check_accuracy(fixed_model_gpu, valid_loader)\n",
        "        print('acc = %f' %(acc))\n",
        "            \n",
        "def check_accuracy(model, loader):\n",
        "    print('Checking accuracy on test set')   \n",
        "    num_correct = 0\n",
        "    num_samples = 0\n",
        "    model.eval() \n",
        "    for x, y in loader:\n",
        "        x_var = Variable(x.type(gpu_dtype))\n",
        "\n",
        "        scores = model(x_var)\n",
        "        _, preds = scores.data.cpu().max(1)\n",
        "        num_correct += (preds == y).sum()\n",
        "        num_samples += preds.size(0)\n",
        "    acc = float(num_correct) / num_samples\n",
        "    acc_list.append(acc)\n",
        "    print('Got %d / %d correct (%.2f)' % (num_correct, num_samples, 100 * acc))\n",
        "    return acc\n",
        "    "
      ],
      "execution_count": 0,
      "outputs": []
    },
    {
      "cell_type": "code",
      "metadata": {
        "id": "ggvpMu36Yw2D",
        "colab_type": "code",
        "colab": {}
      },
      "source": [
        "class Flatten(nn.Module):\n",
        "    def forward(self, x):\n",
        "        N, C, H, W = x.size()\n",
        "        return x.view(N, -1)  "
      ],
      "execution_count": 0,
      "outputs": []
    },
    {
      "cell_type": "code",
      "metadata": {
        "id": "GgmexhBRZAK6",
        "colab_type": "code",
        "outputId": "f4ea9290-f00b-4069-a987-fc56d08e9b6d",
        "colab": {
          "base_uri": "https://localhost:8080/",
          "height": 1000
        }
      },
      "source": [
        "print_every = 1\n",
        "gpu_dtype = torch.cuda.FloatTensor\n",
        "\n",
        "out_1 = 64\n",
        "out_2 = 48\n",
        "out_3 = 32\n",
        "out_4 = 24\n",
        "out_5 = 16\n",
        "\n",
        "k_size_1 = 3\n",
        "padding_1 = 1\n",
        "in_channels = 3\n",
        "\n",
        "num_epochs = 10\n",
        "\n",
        "'''\n",
        "Kerv2d\n",
        "kervolution with following options:\n",
        "kernel_type: [linear, polynomial, gaussian, etc.]\n",
        "default is convolution:\n",
        "          kernel_type --> linear,\n",
        "balance, power, gamma is valid only when the kernel_type is specified\n",
        "if learnable_kernel = True,  they just be the initial value of learable parameters\n",
        "if learnable_kernel = False, they are the value of kernel_type's parameter\n",
        "the parameter [power] cannot be learned due to integer limitation\n",
        "balance: 0, 1\n",
        "power: 3, 4, 5\n",
        "gamma:\n",
        "'''\n",
        "fixed_model_base = nn.Sequential( \n",
        "                nn.Kerv2d(in_channels, out_1, padding= padding_1, kernel_size=k_size_1, \n",
        "                          stride=1, kernel_type='gaussian', learnable_kernel=True,\n",
        "                          kernel_regularizer=True, balance=1, power=4, gamma=1), \n",
        "                nn.BatchNorm2d(out_1),\n",
        "                nn.AvgPool2d(2, stride=2),\n",
        "                \n",
        "                \n",
        "                nn.Conv2d(out_1 , out_2, padding= padding_1, kernel_size=k_size_1, stride=1), \n",
        "                nn.BatchNorm2d(out_2),\n",
        "                nn.Conv2d(out_2 , out_3, padding= padding_1, kernel_size=k_size_1, stride=1), \n",
        "                nn.BatchNorm2d(out_3),\n",
        "                nn.AvgPool2d(2, stride=2),\n",
        "                nn.Conv2d(out_3 , out_4, padding= padding_1, kernel_size=k_size_1, stride=1), \n",
        "                nn.BatchNorm2d(out_4),\n",
        "                nn.Conv2d(out_4 , out_5, padding= padding_1, kernel_size=k_size_1, stride=1), \n",
        "                nn.BatchNorm2d(out_5),\n",
        "                nn.Dropout(0.5),\n",
        "                Flatten(),\n",
        "                nn.Linear(4096,64),\n",
        "                nn.Linear(64,10),\n",
        "                nn.Linear(10,2)\n",
        "            )\n",
        "fixed_model_gpu = fixed_model_base.type(gpu_dtype)\n",
        "print(fixed_model_gpu)\n",
        "loss_fn = nn.modules.loss.CrossEntropyLoss()\n",
        "optimizer = optim.Adam(fixed_model_gpu.parameters(), lr = 0.0007) \n",
        "\n",
        "\n",
        "train(fixed_model_gpu, train_loader ,loss_fn, optimizer, num_epochs=num_epochs)\n",
        "check_accuracy(fixed_model_gpu, valid_loader)"
      ],
      "execution_count": 12,
      "outputs": [
        {
          "output_type": "stream",
          "text": [
            "Sequential(\n",
            "  (0): Kerv2d(3, 64, kernel_size=(3, 3), stride=(1, 1), padding=(1, 1))\n",
            "  (1): BatchNorm2d(64, eps=1e-05, momentum=0.1, affine=True, track_running_stats=True)\n",
            "  (2): AvgPool2d(kernel_size=2, stride=2, padding=0)\n",
            "  (3): Conv2d(64, 48, kernel_size=(3, 3), stride=(1, 1), padding=(1, 1))\n",
            "  (4): BatchNorm2d(48, eps=1e-05, momentum=0.1, affine=True, track_running_stats=True)\n",
            "  (5): Conv2d(48, 32, kernel_size=(3, 3), stride=(1, 1), padding=(1, 1))\n",
            "  (6): BatchNorm2d(32, eps=1e-05, momentum=0.1, affine=True, track_running_stats=True)\n",
            "  (7): AvgPool2d(kernel_size=2, stride=2, padding=0)\n",
            "  (8): Conv2d(32, 24, kernel_size=(3, 3), stride=(1, 1), padding=(1, 1))\n",
            "  (9): BatchNorm2d(24, eps=1e-05, momentum=0.1, affine=True, track_running_stats=True)\n",
            "  (10): Conv2d(24, 16, kernel_size=(3, 3), stride=(1, 1), padding=(1, 1))\n",
            "  (11): BatchNorm2d(16, eps=1e-05, momentum=0.1, affine=True, track_running_stats=True)\n",
            "  (12): Dropout(p=0.5, inplace=False)\n",
            "  (13): Flatten()\n",
            "  (14): Linear(in_features=4096, out_features=64, bias=True)\n",
            "  (15): Linear(in_features=64, out_features=10, bias=True)\n",
            "  (16): Linear(in_features=10, out_features=2, bias=True)\n",
            ")\n",
            "Starting epoch 1 / 10\n",
            "t = 1, avg_loss = 0.7042\n",
            "t = 2, avg_loss = 0.9010\n",
            "t = 3, avg_loss = 0.8005\n",
            "t = 4, avg_loss = 0.7597\n",
            "t = 5, avg_loss = 0.6454\n",
            "t = 6, avg_loss = 0.6972\n",
            "t = 7, avg_loss = 0.6224\n",
            "t = 8, avg_loss = 0.5154\n",
            "t = 9, avg_loss = 0.5905\n",
            "t = 10, avg_loss = 0.5458\n",
            "t = 11, avg_loss = 0.4418\n",
            "t = 12, avg_loss = 0.7245\n",
            "t = 13, avg_loss = 0.4329\n",
            "t = 14, avg_loss = 0.4848\n",
            "t = 15, avg_loss = 0.4278\n",
            "t = 16, avg_loss = 0.4338\n",
            "t = 17, avg_loss = 0.4375\n",
            "t = 18, avg_loss = 0.5222\n",
            "t = 19, avg_loss = 0.4659\n",
            "t = 20, avg_loss = 0.3992\n",
            "Checking accuracy on test set\n",
            "Got 261 / 320 correct (81.56)\n",
            "acc = 0.815625\n",
            "Starting epoch 2 / 10\n",
            "t = 1, avg_loss = 0.3830\n",
            "t = 2, avg_loss = 0.3811\n",
            "t = 3, avg_loss = 0.3055\n",
            "t = 4, avg_loss = 0.5389\n",
            "t = 5, avg_loss = 0.5892\n",
            "t = 6, avg_loss = 0.5763\n",
            "t = 7, avg_loss = 0.3570\n",
            "t = 8, avg_loss = 0.3904\n",
            "t = 9, avg_loss = 0.4161\n",
            "t = 10, avg_loss = 0.3991\n",
            "t = 11, avg_loss = 0.3932\n",
            "t = 12, avg_loss = 0.3558\n",
            "t = 13, avg_loss = 0.4486\n",
            "t = 14, avg_loss = 0.4634\n",
            "t = 15, avg_loss = 0.3813\n",
            "t = 16, avg_loss = 0.2939\n",
            "t = 17, avg_loss = 0.4619\n",
            "t = 18, avg_loss = 0.4428\n",
            "t = 19, avg_loss = 0.3584\n",
            "t = 20, avg_loss = 0.3030\n",
            "Checking accuracy on test set\n",
            "Got 260 / 320 correct (81.25)\n",
            "acc = 0.812500\n",
            "Starting epoch 3 / 10\n",
            "t = 1, avg_loss = 0.4421\n",
            "t = 2, avg_loss = 0.4876\n",
            "t = 3, avg_loss = 0.4738\n",
            "t = 4, avg_loss = 0.4438\n",
            "t = 5, avg_loss = 0.5947\n",
            "t = 6, avg_loss = 0.4082\n",
            "t = 7, avg_loss = 0.3786\n",
            "t = 8, avg_loss = 0.4469\n",
            "t = 9, avg_loss = 0.2442\n",
            "t = 10, avg_loss = 0.4083\n",
            "t = 11, avg_loss = 0.3812\n",
            "t = 12, avg_loss = 0.3580\n",
            "t = 13, avg_loss = 0.3639\n",
            "t = 14, avg_loss = 0.3491\n",
            "t = 15, avg_loss = 0.2631\n",
            "t = 16, avg_loss = 0.2954\n",
            "t = 17, avg_loss = 0.3795\n",
            "t = 18, avg_loss = 0.4431\n",
            "t = 19, avg_loss = 0.4898\n",
            "t = 20, avg_loss = 0.5489\n",
            "Checking accuracy on test set\n",
            "Got 231 / 320 correct (72.19)\n",
            "acc = 0.721875\n",
            "Starting epoch 4 / 10\n",
            "t = 1, avg_loss = 0.3914\n",
            "t = 2, avg_loss = 0.3501\n",
            "t = 3, avg_loss = 0.3561\n",
            "t = 4, avg_loss = 0.3098\n",
            "t = 5, avg_loss = 0.4531\n",
            "t = 6, avg_loss = 0.2293\n",
            "t = 7, avg_loss = 0.2941\n",
            "t = 8, avg_loss = 0.3410\n",
            "t = 9, avg_loss = 0.3416\n",
            "t = 10, avg_loss = 0.3277\n",
            "t = 11, avg_loss = 0.2811\n",
            "t = 12, avg_loss = 0.4158\n",
            "t = 13, avg_loss = 0.4091\n",
            "t = 14, avg_loss = 0.5409\n",
            "t = 15, avg_loss = 0.5626\n",
            "t = 16, avg_loss = 0.2896\n",
            "t = 17, avg_loss = 0.5430\n",
            "t = 18, avg_loss = 0.3294\n",
            "t = 19, avg_loss = 0.5138\n",
            "t = 20, avg_loss = 0.3635\n",
            "Checking accuracy on test set\n",
            "Got 272 / 320 correct (85.00)\n",
            "acc = 0.850000\n",
            "Starting epoch 5 / 10\n",
            "t = 1, avg_loss = 0.3638\n",
            "t = 2, avg_loss = 0.3575\n",
            "t = 3, avg_loss = 0.3209\n",
            "t = 4, avg_loss = 0.3899\n",
            "t = 5, avg_loss = 0.4689\n",
            "t = 6, avg_loss = 0.4446\n",
            "t = 7, avg_loss = 0.2327\n",
            "t = 8, avg_loss = 0.5318\n",
            "t = 9, avg_loss = 0.4022\n",
            "t = 10, avg_loss = 0.4368\n",
            "t = 11, avg_loss = 0.3819\n",
            "t = 12, avg_loss = 0.3702\n",
            "t = 13, avg_loss = 0.3703\n",
            "t = 14, avg_loss = 0.4115\n",
            "t = 15, avg_loss = 0.3092\n",
            "t = 16, avg_loss = 0.3231\n",
            "t = 17, avg_loss = 0.2902\n",
            "t = 18, avg_loss = 0.4142\n",
            "t = 19, avg_loss = 0.2968\n",
            "t = 20, avg_loss = 0.2177\n",
            "Checking accuracy on test set\n",
            "Got 266 / 320 correct (83.12)\n",
            "acc = 0.831250\n",
            "Starting epoch 6 / 10\n",
            "t = 1, avg_loss = 0.4445\n",
            "t = 2, avg_loss = 0.3434\n",
            "t = 3, avg_loss = 0.3099\n",
            "t = 4, avg_loss = 0.2286\n",
            "t = 5, avg_loss = 0.2572\n",
            "t = 6, avg_loss = 0.3764\n",
            "t = 7, avg_loss = 0.2784\n",
            "t = 8, avg_loss = 0.4180\n",
            "t = 9, avg_loss = 0.3925\n",
            "t = 10, avg_loss = 0.3962\n",
            "t = 11, avg_loss = 0.5984\n",
            "t = 12, avg_loss = 0.2632\n",
            "t = 13, avg_loss = 0.4068\n",
            "t = 14, avg_loss = 0.3455\n",
            "t = 15, avg_loss = 0.2700\n",
            "t = 16, avg_loss = 0.2652\n",
            "t = 17, avg_loss = 0.2540\n",
            "t = 18, avg_loss = 0.2707\n",
            "t = 19, avg_loss = 0.5104\n",
            "t = 20, avg_loss = 0.5062\n",
            "Checking accuracy on test set\n",
            "Got 270 / 320 correct (84.38)\n",
            "acc = 0.843750\n",
            "Starting epoch 7 / 10\n",
            "t = 1, avg_loss = 0.2442\n",
            "t = 2, avg_loss = 0.4116\n",
            "t = 3, avg_loss = 0.3234\n",
            "t = 4, avg_loss = 0.2606\n",
            "t = 5, avg_loss = 0.3545\n",
            "t = 6, avg_loss = 0.3554\n",
            "t = 7, avg_loss = 0.3924\n",
            "t = 8, avg_loss = 0.4544\n",
            "t = 9, avg_loss = 0.1911\n",
            "t = 10, avg_loss = 0.4156\n",
            "t = 11, avg_loss = 0.4070\n",
            "t = 12, avg_loss = 0.2504\n",
            "t = 13, avg_loss = 0.3831\n",
            "t = 14, avg_loss = 0.4494\n",
            "t = 15, avg_loss = 0.3211\n",
            "t = 16, avg_loss = 0.3409\n",
            "t = 17, avg_loss = 0.2708\n",
            "t = 18, avg_loss = 0.4461\n",
            "t = 19, avg_loss = 0.3556\n",
            "t = 20, avg_loss = 0.4023\n",
            "Checking accuracy on test set\n",
            "Got 274 / 320 correct (85.62)\n",
            "acc = 0.856250\n",
            "Starting epoch 8 / 10\n",
            "t = 1, avg_loss = 0.2836\n",
            "t = 2, avg_loss = 0.2655\n",
            "t = 3, avg_loss = 0.2643\n",
            "t = 4, avg_loss = 0.3936\n",
            "t = 5, avg_loss = 0.3859\n",
            "t = 6, avg_loss = 0.4624\n",
            "t = 7, avg_loss = 0.3248\n",
            "t = 8, avg_loss = 0.4878\n",
            "t = 9, avg_loss = 0.2200\n",
            "t = 10, avg_loss = 0.4229\n",
            "t = 11, avg_loss = 0.2430\n",
            "t = 12, avg_loss = 0.2954\n",
            "t = 13, avg_loss = 0.2666\n",
            "t = 14, avg_loss = 0.3259\n",
            "t = 15, avg_loss = 0.3417\n",
            "t = 16, avg_loss = 0.5720\n",
            "t = 17, avg_loss = 0.2293\n",
            "t = 18, avg_loss = 0.3091\n",
            "t = 19, avg_loss = 0.2838\n",
            "t = 20, avg_loss = 0.3639\n",
            "Checking accuracy on test set\n",
            "Got 261 / 320 correct (81.56)\n",
            "acc = 0.815625\n",
            "Starting epoch 9 / 10\n",
            "t = 1, avg_loss = 0.4118\n",
            "t = 2, avg_loss = 0.3197\n",
            "t = 3, avg_loss = 0.3978\n",
            "t = 4, avg_loss = 0.3396\n",
            "t = 5, avg_loss = 0.2921\n",
            "t = 6, avg_loss = 0.2509\n",
            "t = 7, avg_loss = 0.3323\n",
            "t = 8, avg_loss = 0.3111\n",
            "t = 9, avg_loss = 0.4849\n",
            "t = 10, avg_loss = 0.2420\n",
            "t = 11, avg_loss = 0.3321\n",
            "t = 12, avg_loss = 0.2618\n",
            "t = 13, avg_loss = 0.2739\n",
            "t = 14, avg_loss = 0.3367\n",
            "t = 15, avg_loss = 0.2495\n",
            "t = 16, avg_loss = 0.4697\n",
            "t = 17, avg_loss = 0.4573\n",
            "t = 18, avg_loss = 0.2728\n",
            "t = 19, avg_loss = 0.2886\n",
            "t = 20, avg_loss = 0.2588\n",
            "Checking accuracy on test set\n",
            "Got 268 / 320 correct (83.75)\n",
            "acc = 0.837500\n",
            "Starting epoch 10 / 10\n",
            "t = 1, avg_loss = 0.2704\n",
            "t = 2, avg_loss = 0.3300\n",
            "t = 3, avg_loss = 0.2283\n",
            "t = 4, avg_loss = 0.4166\n",
            "t = 5, avg_loss = 0.3218\n",
            "t = 6, avg_loss = 0.2154\n",
            "t = 7, avg_loss = 0.2830\n",
            "t = 8, avg_loss = 0.3461\n",
            "t = 9, avg_loss = 0.3210\n",
            "t = 10, avg_loss = 0.3116\n",
            "t = 11, avg_loss = 0.2908\n",
            "t = 12, avg_loss = 0.3284\n",
            "t = 13, avg_loss = 0.4258\n",
            "t = 14, avg_loss = 0.4148\n",
            "t = 15, avg_loss = 0.1728\n",
            "t = 16, avg_loss = 0.4125\n",
            "t = 17, avg_loss = 0.3564\n",
            "t = 18, avg_loss = 0.3838\n",
            "t = 19, avg_loss = 0.3086\n",
            "t = 20, avg_loss = 0.2841\n",
            "Checking accuracy on test set\n",
            "Got 274 / 320 correct (85.62)\n",
            "acc = 0.856250\n",
            "Checking accuracy on test set\n",
            "Got 272 / 320 correct (85.00)\n"
          ],
          "name": "stdout"
        },
        {
          "output_type": "execute_result",
          "data": {
            "text/plain": [
              "0.85"
            ]
          },
          "metadata": {
            "tags": []
          },
          "execution_count": 12
        }
      ]
    },
    {
      "cell_type": "code",
      "metadata": {
        "id": "rDn-2g-TLY3k",
        "colab_type": "code",
        "colab": {
          "base_uri": "https://localhost:8080/",
          "height": 282
        },
        "outputId": "c3411aae-9cac-4cf7-8b32-355380a02bc0"
      },
      "source": [
        "import matplotlib.pyplot as plt\n",
        "\n",
        "plt.plot([print_every*batch_size*(i+1) for i in range((len(avg_loss_list)))],avg_loss_list)\n",
        "print(\"Loss:\")\n",
        "plt.show()"
      ],
      "execution_count": 13,
      "outputs": [
        {
          "output_type": "stream",
          "text": [
            "Loss:\n"
          ],
          "name": "stdout"
        },
        {
          "output_type": "display_data",
          "data": {
            "image/png": "[encoded data removed]",
            "text/plain": [
              "<Figure size 432x288 with 1 Axes>"
            ]
          },
          "metadata": {
            "tags": []
          }
        }
      ]
    },
    {
      "cell_type": "code",
      "metadata": {
        "id": "VGer6hJv7-zR",
        "colab_type": "code",
        "colab": {
          "base_uri": "https://localhost:8080/",
          "height": 282
        },
        "outputId": "9221f76c-02b7-4964-b6b4-2834e529c308"
      },
      "source": [
        "plt.plot([i+1 for i in range((len(acc_list)))],acc_list)\n",
        "print(\"Accurancy:\")\n",
        "plt.show()"
      ],
      "execution_count": 14,
      "outputs": [
        {
          "output_type": "stream",
          "text": [
            "Accurancy:\n"
          ],
          "name": "stdout"
        },
        {
          "output_type": "display_data",
          "data": {
            "image/png": "[encoded data removed]",
            "text/plain": [
              "<Figure size 432x288 with 1 Axes>"
            ]
          },
          "metadata": {
            "tags": []
          }
        }
      ]
    }
  ]
}