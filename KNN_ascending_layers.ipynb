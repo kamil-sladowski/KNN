{
  "nbformat": 4,
  "nbformat_minor": 0,
  "metadata": {
    "colab": {
      "name": "KNN_ascending_layers.ipynb",
      "provenance": [],
      "collapsed_sections": [],
      "include_colab_link": true
    },
    "kernelspec": {
      "name": "python3",
      "display_name": "Python 3"
    },
    "accelerator": "GPU"
  },
  "cells": [
    {
      "cell_type": "markdown",
      "metadata": {
        "id": "view-in-github",
        "colab_type": "text"
      },
      "source": [
        "<a href=\"https://colab.research.google.com/github/kamilo116/KNN/blob/master/KNN_ascending_layers.ipynb\" target=\"_parent\"><img src=\"https://colab.research.google.com/assets/colab-badge.svg\" alt=\"Open In Colab\"/></a>"
      ]
    },
    {
      "cell_type": "code",
      "metadata": {
        "id": "W7ReM7FU-xs4",
        "colab_type": "code",
        "colab": {}
      },
      "source": [
        "import numpy as np \n",
        "import pandas as pd\n",
        "import os\n",
        "import csv\n",
        "import sys\n",
        "from random import shuffle\n",
        "from PIL import Image\n",
        "import matplotlib.pyplot as plt\n",
        "import matplotlib.image as mpimg\n",
        "from matplotlib.pyplot import imshow\n",
        "%matplotlib inline\n",
        "from sklearn.model_selection import train_test_split\n",
        "\n",
        "import torch\n",
        "from torch.utils.data import TensorDataset, DataLoader,Dataset\n",
        "from torch.utils.data.sampler import SubsetRandomSampler\n",
        "\n",
        "import torch.nn as nn\n",
        "import torch.optim as optim\n",
        "from torch.autograd import Variable\n",
        "from torch.utils.data import DataLoader\n",
        "from torch.utils.data import sampler\n",
        "import torchvision\n",
        "import torchvision.datasets as dset\n",
        "import torchvision.transforms as T\n",
        "import torchvision.transforms as transforms\n",
        "import timeit\n",
        "\n",
        "np.random.seed(4) \n",
        "torch.manual_seed(4) \n",
        "torch.cuda.manual_seed(4)"
      ],
      "execution_count": 0,
      "outputs": []
    },
    {
      "cell_type": "code",
      "metadata": {
        "id": "fYIMZ8QyYewD",
        "colab_type": "code",
        "outputId": "16ef5f48-7b9d-45e8-ef33-5d3a34a7de8b",
        "colab": {
          "base_uri": "https://localhost:8080/",
          "height": 127
        }
      },
      "source": [
        "! git clone https://github.com/wang-chen/kervolution.git \n",
        "\n",
        "sys.path.append(\"kervolution/\")\n",
        "from kervolution import Kerv2d\n"
      ],
      "execution_count": 2,
      "outputs": [
        {
          "output_type": "stream",
          "text": [
            "Cloning into 'kervolution'...\n",
            "remote: Enumerating objects: 6, done.\u001b[K\n",
            "remote: Counting objects: 100% (6/6), done.\u001b[K\n",
            "remote: Compressing objects: 100% (6/6), done.\u001b[K\n",
            "remote: Total 53 (delta 2), reused 0 (delta 0), pack-reused 47\u001b[K\n",
            "Unpacking objects: 100% (53/53), done.\n"
          ],
          "name": "stdout"
        }
      ]
    },
    {
      "cell_type": "code",
      "metadata": {
        "id": "hvbKg4VJXKY-",
        "colab_type": "code",
        "colab": {}
      },
      "source": [
        "LIMIT_IMAGES_NUM = 1000\n",
        "train_test_split_size = 0.2\n",
        "image_resize = (100, 100)\n",
        "batch_size = 64\n",
        "num_workers = 0\n",
        "\n",
        "out_1 = 16\n",
        "out_2 = 32\n",
        "out_3 = 64\n",
        "out_4 = 100\n",
        "\n",
        "\n",
        "k_size_1 = 3\n",
        "padding_1 = 1\n",
        "in_channels = 3\n",
        "\n",
        "kernel_size = 3\n",
        "num_epochs = 80\n",
        "\n",
        "learning_rate = 0.0001\n",
        "weight_decay = 0.05\n",
        "\n",
        "MALIGNANT_DATASET = '/content/drive/My Drive/Colab_data/malignant/malignant/'\n",
        "BENIGN_DATASET = '/content/drive/My Drive/Colab_data/benign/benign/'\n",
        "DATA_FOLDER = '/content/drive/My Drive/Colab_data/'\n",
        "model_backup_path = os.path.join(DATA_FOLDER, 'backup_model3') \n",
        "TRAIN_DATA_PER_CATEGORY = 101"
      ],
      "execution_count": 0,
      "outputs": []
    },
    {
      "cell_type": "code",
      "metadata": {
        "id": "tMOHez_kHZD6",
        "colab_type": "code",
        "outputId": "7262deda-597f-45df-dd4b-6ea69c8dd2b6",
        "colab": {
          "base_uri": "https://localhost:8080/",
          "height": 129
        }
      },
      "source": [
        "from google.colab import drive, files\n",
        "drive.mount('/content/drive')"
      ],
      "execution_count": 4,
      "outputs": [
        {
          "output_type": "stream",
          "text": [
            "Go to this URL in a browser: https://accounts.google.com/o/oauth2/auth?client_id=947318989803-6bn6qk8qdgf4n4g3pfee6491hc0brc4i.apps.googleusercontent.com&redirect_uri=urn%3aietf%3awg%3aoauth%3a2.0%3aoob&response_type=code&scope=email%20https%3a%2f%2fwww.googleapis.com%2fauth%2fdocs.test%20https%3a%2f%2fwww.googleapis.com%2fauth%2fdrive%20https%3a%2f%2fwww.googleapis.com%2fauth%2fdrive.photos.readonly%20https%3a%2f%2fwww.googleapis.com%2fauth%2fpeopleapi.readonly\n",
            "\n",
            "Enter your authorization code:\n",
            "··········\n",
            "Mounted at /content/drive\n"
          ],
          "name": "stdout"
        }
      ]
    },
    {
      "cell_type": "code",
      "metadata": {
        "id": "7b8P1NdXfVdX",
        "colab_type": "code",
        "outputId": "1e90350c-26e1-49e1-e055-2ea0721a1a16",
        "colab": {
          "base_uri": "https://localhost:8080/",
          "height": 90
        }
      },
      "source": [
        "benign_train_list = sorted(os.listdir(BENIGN_DATASET))[:LIMIT_IMAGES_NUM]\n",
        "malignant_train_list = sorted(os.listdir(MALIGNANT_DATASET))[:LIMIT_IMAGES_NUM]\n",
        "\n",
        "shuffle(benign_train_list)\n",
        "shuffle(malignant_train_list)\n",
        "\n",
        "test_benign_file_list = os.listdir(BENIGN_DATASET + 'test_set')[:TRAIN_DATA_PER_CATEGORY]\n",
        "test_malignant_file_list = os.listdir(MALIGNANT_DATASET + 'test_set')[:TRAIN_DATA_PER_CATEGORY]\n",
        "\n",
        "print(f\"Number of training benign {len(benign_train_list)} images\")\n",
        "print(f\"Number of training malignant {len(malignant_train_list)} images\")\n",
        "print(f\"Number of test benign {len(test_benign_file_list)} images\")\n",
        "print(f\"Number of test malignant {len(test_malignant_file_list)} images\")\n",
        "\n",
        "data_transforms = transforms.Compose([\n",
        "    transforms.Resize(image_resize),\n",
        "    transforms.RandomHorizontalFlip(),\n",
        "    transforms.RandomVerticalFlip(),\n",
        "    transforms.RandomRotation(45),\n",
        "    transforms.ToTensor(),\n",
        "    transforms.Normalize((0.5, 0.5, 0.5), (0.5, 0.5, 0.5))\n",
        "    ])\n",
        "\n",
        "data_transforms_test = transforms.Compose([\n",
        "    transforms.Resize(image_resize),\n",
        "    transforms.ToTensor(),\n",
        "    transforms.Normalize((0.5, 0.5, 0.5), (0.5, 0.5, 0.5))\n",
        "    ])\n",
        "\n",
        "\n"
      ],
      "execution_count": 5,
      "outputs": [
        {
          "output_type": "stream",
          "text": [
            "Number of training benign 1000 images\n",
            "Number of training malignant 1000 images\n",
            "Number of test benign 101 images\n",
            "Number of test malignant 101 images\n"
          ],
          "name": "stdout"
        }
      ]
    },
    {
      "cell_type": "code",
      "metadata": {
        "id": "nvAAOqmVfVll",
        "colab_type": "code",
        "colab": {}
      },
      "source": [
        "class IsicDataset(Dataset):\n",
        "    def __init__(self, data_folder, labeled_data, \n",
        "                 transform=transforms.Compose([transforms.ToTensor()]), datatype='train'):\n",
        "        self.labeled_data = labeled_data\n",
        "        self.transform = transform\n",
        "        self.data_folder = data_folder\n",
        "        self.datatype = datatype\n",
        "        \n",
        "        \n",
        "    def __len__(self):\n",
        "        return len(self.labeled_data)\n",
        "\n",
        "    def __getitem__(self, index):\n",
        "        label = self.labeled_data[index]\n",
        "        test_set = ''\n",
        "        if self.datatype == 'test':\n",
        "          test_set = 'test_set'  \n",
        "        if label == 0:\n",
        "          image = Image.open(os.path.join(self.data_folder, \"benign\", \"benign\", test_set, index ))\n",
        "        else:\n",
        "          image = Image.open(os.path.join(self.data_folder, \"malignant\", \"malignant\", test_set, index ))\n",
        "        image = self.transform(image)\n",
        "        return image, label\n",
        "\n",
        "    @property\n",
        "    def labels(self):\n",
        "      return self.labeled_data\n"
      ],
      "execution_count": 0,
      "outputs": []
    },
    {
      "cell_type": "code",
      "metadata": {
        "id": "_e8nFBR6Yug5",
        "colab_type": "code",
        "colab": {}
      },
      "source": [
        "avg_loss_list = []\n",
        "acc_list = []\n",
        "\n",
        "def prepare_dataset(benign_file_list, malignant_file_list, transform, datatype='train'):\n",
        "  benign_dict = {filename: 0 for filename in benign_file_list}\n",
        "  malignant_dict = {filename: 1 for filename in malignant_file_list}\n",
        "  img_class_dict = {**benign_dict , **malignant_dict}\n",
        "  labeled_data = pd.Series(img_class_dict)\n",
        "\n",
        "  dataset = IsicDataset(DATA_FOLDER, labeled_data, transform=transform, datatype=datatype)\n",
        "  print(dataset.labels)\n",
        "  return dataset\n",
        "\n",
        "def train(model, train_loader ,loss_fn, optimizer, num_epochs=1, starting_from_epoch=1):\n",
        "    total_loss =0\n",
        "\n",
        "    for epoch in range(num_epochs):\n",
        "        print('Starting epoch %d / %d' % (epoch + starting_from_epoch, num_epochs + starting_from_epoch - 1))\n",
        "        model.train()\n",
        "\n",
        "        for t, (x, y) in enumerate(train_loader):\n",
        "            x_var = Variable(x.type(gpu_dtype))\n",
        "            y_var = Variable(y.type(gpu_dtype).long())\n",
        "            scores = model(x_var)\n",
        "            loss = loss_fn(scores, y_var)\n",
        "            total_loss += loss.data\n",
        "            \n",
        "            if (t + 1) % print_every == 0:\n",
        "                avg_loss = total_loss/print_every\n",
        "                print('t = %d, avg_loss = %.4f' % (t + 1, avg_loss) )\n",
        "                avg_loss_list.append(avg_loss)\n",
        "                total_loss = 0\n",
        "                \n",
        "            optimizer.zero_grad()\n",
        "            loss.backward()\n",
        "            optimizer.step()\n",
        "\n",
        "        acc = check_accuracy(model_gpu, valid_loader)\n",
        "        print('acc = %f' %(acc))\n",
        "        torch.save({\n",
        "            'epoch': epoch,\n",
        "            'model_state_dict': model_gpu.state_dict(),\n",
        "            'optimizer_state_dict': optimizer.state_dict(),\n",
        "            'loss': loss,\n",
        "            'acc_list': acc_list,\n",
        "            }, model_backup_path)\n",
        "            \n",
        "def check_accuracy(model, loader, datatype='train'):\n",
        "    print(f'Checking accuracy on {datatype} set')   \n",
        "    num_correct = 0\n",
        "    num_samples = 0\n",
        "    model.eval() \n",
        "    for x, y in loader:\n",
        "        x_var = Variable(x.type(gpu_dtype))\n",
        "\n",
        "        scores = model(x_var)\n",
        "        _, preds = scores.data.cpu().max(1)\n",
        "        num_correct += (preds == y).sum()\n",
        "        num_samples += preds.size(0)\n",
        "    acc = float(num_correct) / num_samples\n",
        "    if datatype is 'train':\n",
        "      acc_list.append(acc)\n",
        "    print('Got %d / %d correct (%.2f)' % (num_correct, num_samples, 100 * acc))\n",
        "    return acc\n",
        "    \n",
        "class Flatten(nn.Module):\n",
        "    def forward(self, x):\n",
        "        N, C, H, W = x.size()\n",
        "        return x.view(N, -1)  \n",
        "        "
      ],
      "execution_count": 0,
      "outputs": []
    },
    {
      "cell_type": "code",
      "metadata": {
        "id": "kSuYqjLAYrWA",
        "colab_type": "code",
        "outputId": "83cfbfec-353c-4d7a-e790-b2f8e53a8461",
        "colab": {
          "base_uri": "https://localhost:8080/",
          "height": 274
        }
      },
      "source": [
        "train_dataset = prepare_dataset(benign_train_list, malignant_train_list, data_transforms)\n",
        "\n",
        "X_train, X_valid = train_test_split(train_dataset.labels, test_size=train_test_split_size)\n",
        "\n",
        "print(\"number of training data: \",len(X_train))\n",
        "print(\"number of valid  data: \",len(X_valid))\n",
        "\n",
        "train_sampler = SubsetRandomSampler(list(X_train.index))\n",
        "valid_sampler = SubsetRandomSampler(list(X_valid.index))\n",
        "\n",
        "train_loader = torch.utils.data.DataLoader(train_dataset, batch_size=batch_size, sampler=train_sampler, num_workers=num_workers)\n",
        "valid_loader = torch.utils.data.DataLoader(train_dataset, batch_size=batch_size, sampler=valid_sampler, num_workers=num_workers)\n"
      ],
      "execution_count": 8,
      "outputs": [
        {
          "output_type": "stream",
          "text": [
            "ISIC_0000245.jpeg    0\n",
            "ISIC_0002870.jpeg    0\n",
            "ISIC_0002636.jpeg    0\n",
            "ISIC_0000383.jpeg    0\n",
            "ISIC_0001163.jpeg    0\n",
            "                    ..\n",
            "ISIC_0014270.jpeg    1\n",
            "ISIC_0001120.jpeg    1\n",
            "ISIC_0013917.jpeg    1\n",
            "ISIC_0000420.jpeg    1\n",
            "ISIC_0010765.jpeg    1\n",
            "Length: 2000, dtype: int64\n",
            "number of training data:  1600\n",
            "number of valid  data:  400\n"
          ],
          "name": "stdout"
        }
      ]
    },
    {
      "cell_type": "code",
      "metadata": {
        "id": "1KIt7qu32yW5",
        "colab_type": "code",
        "outputId": "04141e28-e49e-408d-9376-d47348b80afe",
        "colab": {
          "base_uri": "https://localhost:8080/",
          "height": 237
        }
      },
      "source": [
        "test_dataset = prepare_dataset(test_benign_file_list, test_malignant_file_list, data_transforms_test, datatype='test')\n",
        "test_part, _ = train_test_split(test_dataset.labels, test_size=1)\n",
        "test_sampler = SubsetRandomSampler(list(test_part.index))\n",
        "test_loader = torch.utils.data.DataLoader(test_dataset, batch_size=50, sampler=test_sampler, num_workers=num_workers)"
      ],
      "execution_count": 9,
      "outputs": [
        {
          "output_type": "stream",
          "text": [
            "ISIC_0000081.jpeg    0\n",
            "ISIC_0000033.jpeg    0\n",
            "ISIC_0000023.jpeg    0\n",
            "ISIC_0000137.jpeg    0\n",
            "ISIC_0000073.jpeg    0\n",
            "                    ..\n",
            "ISIC_0025783.jpg     1\n",
            "ISIC_0026604.jpg     1\n",
            "ISIC_0026754.jpg     1\n",
            "ISIC_0026847.jpg     1\n",
            "ISIC_0027060.jpg     1\n",
            "Length: 202, dtype: int64\n"
          ],
          "name": "stdout"
        }
      ]
    },
    {
      "cell_type": "code",
      "metadata": {
        "id": "6-gYHw0Jlbwt",
        "colab_type": "code",
        "outputId": "3e91abe9-8f11-4a02-d810-a9955a3e297d",
        "colab": {
          "base_uri": "https://localhost:8080/",
          "height": 384
        }
      },
      "source": [
        "print_every = 5\n",
        "gpu_dtype = torch.cuda.FloatTensor\n",
        "\n",
        "\n",
        "'''\n",
        "Kerv2d\n",
        "kervolution with following options:\n",
        "kernel_type: [linear, polynomial, gaussian, etc.]\n",
        "default is convolution:\n",
        "          kernel_type --> linear,\n",
        "balance, power, gamma is valid only when the kernel_type is specified\n",
        "if learnable_kernel = True,  they just be the initial value of learable parameters\n",
        "if learnable_kernel = False, they are the value of kernel_type's parameter\n",
        "the parameter [power] cannot be learned due to integer limitation\n",
        "dilation (int or tuple, optional): Spacing between kernel\n",
        "elements. Default: 1\n",
        "groups (int, optional): Number of blocked connections from input\n",
        "channels to output channels. Default: 1\n",
        "bias (bool, optional): If ``True``, adds a learnable bias to the output. Default: ``True``\n",
        "kernel_type (str), Default: 'linear'\n",
        "learnable_kernel (bool): Learnable kernel parameters.  Default: False \n",
        "balance: 0, 1\n",
        "power: 3, 4, 5\n",
        "gamma:\n",
        "'''\n",
        "\n",
        "\n",
        "model_base = nn.Sequential( \n",
        "                #nn.Conv2d(in_channels , out_1, padding= padding_1, kernel_size=k_size_1, stride=1),\n",
        "                nn.Kerv2d(in_channels , out_1, padding=padding_1, dilation=1, groups=1, bias=True, \n",
        "                          kernel_type='polynomial', kernel_size=3, learnable_kernel=True,\n",
        "                          kernel_regularizer=True, stride=1, balance=1, power=2, gamma=1 \n",
        "                          ), \n",
        "                #nn.ReLU(inplace=True),\n",
        "                nn.BatchNorm2d(out_1),\n",
        "                nn.AvgPool2d(2, stride=2),\n",
        "                #nn.Conv2d(out_1 , out_2, padding= padding_1, kernel_size=k_size_1, stride=1), \n",
        "                nn.Kerv2d(out_1 , out_2, padding=padding_1, dilation=1, groups=1, bias=True, \n",
        "                          kernel_type='polynomial', kernel_size=4, learnable_kernel=True,\n",
        "                          kernel_regularizer=True, stride=1, balance=1, power=2, gamma=1 \n",
        "                          ),\n",
        "                #nn.ReLU(inplace=True),\n",
        "                nn.BatchNorm2d(out_2),\n",
        "                nn.AvgPool2d(2, stride=2),\n",
        "                #nn.Conv2d(out_2 , out_3, padding= padding_1, kernel_size=k_size_1, stride=1),  \n",
        "                nn.Kerv2d(out_2 , out_3, padding=padding_1, dilation=1, groups=1, bias=True, \n",
        "                          kernel_type='polynomial', kernel_size=5, learnable_kernel=True,\n",
        "                          kernel_regularizer=True, stride=1, balance=1, power=2, gamma=1 \n",
        "                          ),\n",
        "                #nn.ReLU(inplace=True),\n",
        "                nn.BatchNorm2d(out_3),\n",
        "                nn.AvgPool2d(2, stride=2),\n",
        "                nn.Conv2d(out_3 , out_4, padding= padding_1, kernel_size=k_size_1, stride=1),  \n",
        "                nn.ReLU(inplace=True),\n",
        "                nn.BatchNorm2d(out_4),\n",
        "                nn.MaxPool2d(2, stride=2),\n",
        "                nn.Dropout(0.5),\n",
        "                Flatten(),\n",
        "                nn.Linear(2500,64),\n",
        "                nn.ReLU(inplace=True),\n",
        "                nn.Linear(64,2)\n",
        "            )\n",
        "model_gpu = model_base.type(gpu_dtype)\n",
        "print(model_gpu)\n",
        "loss_fn = nn.modules.loss.CrossEntropyLoss()\n",
        "optimizer = optim.Adam(model_gpu.parameters(), lr = learning_rate, weight_decay=weight_decay) "
      ],
      "execution_count": 10,
      "outputs": [
        {
          "output_type": "stream",
          "text": [
            "Sequential(\n",
            "  (0): Kerv2d(3, 16, kernel_size=(3, 3), stride=(1, 1), padding=(1, 1))\n",
            "  (1): BatchNorm2d(16, eps=1e-05, momentum=0.1, affine=True, track_running_stats=True)\n",
            "  (2): AvgPool2d(kernel_size=2, stride=2, padding=0)\n",
            "  (3): Kerv2d(16, 32, kernel_size=(4, 4), stride=(1, 1), padding=(1, 1))\n",
            "  (4): BatchNorm2d(32, eps=1e-05, momentum=0.1, affine=True, track_running_stats=True)\n",
            "  (5): AvgPool2d(kernel_size=2, stride=2, padding=0)\n",
            "  (6): Kerv2d(32, 64, kernel_size=(5, 5), stride=(1, 1), padding=(1, 1))\n",
            "  (7): BatchNorm2d(64, eps=1e-05, momentum=0.1, affine=True, track_running_stats=True)\n",
            "  (8): AvgPool2d(kernel_size=2, stride=2, padding=0)\n",
            "  (9): Conv2d(64, 100, kernel_size=(3, 3), stride=(1, 1), padding=(1, 1))\n",
            "  (10): ReLU(inplace=True)\n",
            "  (11): BatchNorm2d(100, eps=1e-05, momentum=0.1, affine=True, track_running_stats=True)\n",
            "  (12): MaxPool2d(kernel_size=2, stride=2, padding=0, dilation=1, ceil_mode=False)\n",
            "  (13): Dropout(p=0.5, inplace=False)\n",
            "  (14): Flatten()\n",
            "  (15): Linear(in_features=2500, out_features=64, bias=True)\n",
            "  (16): ReLU(inplace=True)\n",
            "  (17): Linear(in_features=64, out_features=2, bias=True)\n",
            ")\n"
          ],
          "name": "stdout"
        }
      ]
    },
    {
      "cell_type": "code",
      "metadata": {
        "id": "GgmexhBRZAK6",
        "colab_type": "code",
        "colab": {}
      },
      "source": [
        "\n",
        "#train(model_gpu, train_loader ,loss_fn, optimizer, num_epochs=num_epochs)\n",
        "#check_accuracy(model_gpu, valid_loader)\n"
      ],
      "execution_count": 0,
      "outputs": []
    },
    {
      "cell_type": "code",
      "metadata": {
        "id": "y6mILpW62uP9",
        "colab_type": "code",
        "colab": {}
      },
      "source": [
        ""
      ],
      "execution_count": 0,
      "outputs": []
    },
    {
      "cell_type": "code",
      "metadata": {
        "id": "vvoCj5uscUsz",
        "colab_type": "code",
        "colab": {}
      },
      "source": [
        "def plot_accurancy(acc_list):\n",
        "  plt.plot([i+1 for i in range((len(acc_list)))],acc_list)\n",
        "  print(\"Accurancy:\")\n",
        "  plt.show()\n",
        "\n",
        "def plot_loss_function(avg_loss_list):\n",
        "  plt.plot([print_every*batch_size*(i+1) for i in range((len(avg_loss_list)))],avg_loss_list)\n",
        "  print(\"Loss:\")\n",
        "  plt.show()"
      ],
      "execution_count": 0,
      "outputs": []
    },
    {
      "cell_type": "code",
      "metadata": {
        "id": "-WwgxQDJ-SWu",
        "colab_type": "code",
        "colab": {}
      },
      "source": [
        "#plot_accurancy(acc_list)\n",
        "#plot_loss_function(avg_loss_list)"
      ],
      "execution_count": 0,
      "outputs": []
    },
    {
      "cell_type": "code",
      "metadata": {
        "id": "bN3i7jMlK04i",
        "colab_type": "code",
        "colab": {}
      },
      "source": [
        "#check_accuracy(model_gpu, test_loader, datatype='test')"
      ],
      "execution_count": 0,
      "outputs": []
    },
    {
      "cell_type": "code",
      "metadata": {
        "id": "p3D2NBxIxy5b",
        "colab_type": "code",
        "colab": {}
      },
      "source": [
        "def retry_from_backup():\n",
        "  model_gpu = model_base.type(gpu_dtype)\n",
        "  print(model_gpu)\n",
        "  loss_fn = nn.modules.loss.CrossEntropyLoss()\n",
        "  optimizer = optim.Adam(model_gpu.parameters(), lr = learning_rate, weight_decay=weight_decay) \n",
        "\n",
        "\n",
        "  checkpoint = torch.load(model_backup_path)\n",
        "  model_gpu.load_state_dict(checkpoint['model_state_dict'])\n",
        "  optimizer.load_state_dict(checkpoint['optimizer_state_dict'])\n",
        "  epoch = checkpoint['epoch']\n",
        "  loss = checkpoint['loss']\n",
        "  acc_list = checkpoint['acc_list']\n",
        "  print(\"starting from epoch: \" + str(epoch))\n",
        "  print(\"starting from loss: \" + str(loss))\n",
        "  print(acc_list)\n",
        "  \n",
        "  \n",
        "  train(model_gpu, train_loader ,loss_fn, optimizer, num_epochs=30, starting_from_epoch=epoch)\n",
        "  check_accuracy(model_gpu, valid_loader)\n",
        "\n",
        "  plot_accurancy(acc_list)\n",
        "  plot_loss_function(avg_loss_list)"
      ],
      "execution_count": 0,
      "outputs": []
    },
    {
      "cell_type": "code",
      "metadata": {
        "id": "avJf2YZ2KEDa",
        "colab_type": "code",
        "colab": {}
      },
      "source": [
        "#retry_from_backup()"
      ],
      "execution_count": 0,
      "outputs": []
    },
    {
      "cell_type": "code",
      "metadata": {
        "id": "SEROCbhTw37l",
        "colab_type": "code",
        "colab": {}
      },
      "source": [
        "#check_accuracy(model_gpu, test_loader, datatype='test')\n",
        "#plot_accurancy(acc_list)\n",
        "#plot_loss_function(avg_loss_list)"
      ],
      "execution_count": 0,
      "outputs": []
    },
    {
      "cell_type": "code",
      "metadata": {
        "id": "vpTv9rFZeMDb",
        "colab_type": "code",
        "colab": {
          "base_uri": "https://localhost:8080/",
          "height": 1000
        },
        "outputId": "31c4d26c-3fc3-4e68-8906-f517c74a3105"
      },
      "source": [
        "retry_from_backup()"
      ],
      "execution_count": 18,
      "outputs": [
        {
          "output_type": "stream",
          "text": [
            "Sequential(\n",
            "  (0): Kerv2d(3, 16, kernel_size=(3, 3), stride=(1, 1), padding=(1, 1))\n",
            "  (1): BatchNorm2d(16, eps=1e-05, momentum=0.1, affine=True, track_running_stats=True)\n",
            "  (2): AvgPool2d(kernel_size=2, stride=2, padding=0)\n",
            "  (3): Kerv2d(16, 32, kernel_size=(4, 4), stride=(1, 1), padding=(1, 1))\n",
            "  (4): BatchNorm2d(32, eps=1e-05, momentum=0.1, affine=True, track_running_stats=True)\n",
            "  (5): AvgPool2d(kernel_size=2, stride=2, padding=0)\n",
            "  (6): Kerv2d(32, 64, kernel_size=(5, 5), stride=(1, 1), padding=(1, 1))\n",
            "  (7): BatchNorm2d(64, eps=1e-05, momentum=0.1, affine=True, track_running_stats=True)\n",
            "  (8): AvgPool2d(kernel_size=2, stride=2, padding=0)\n",
            "  (9): Conv2d(64, 100, kernel_size=(3, 3), stride=(1, 1), padding=(1, 1))\n",
            "  (10): ReLU(inplace=True)\n",
            "  (11): BatchNorm2d(100, eps=1e-05, momentum=0.1, affine=True, track_running_stats=True)\n",
            "  (12): MaxPool2d(kernel_size=2, stride=2, padding=0, dilation=1, ceil_mode=False)\n",
            "  (13): Dropout(p=0.5, inplace=False)\n",
            "  (14): Flatten()\n",
            "  (15): Linear(in_features=2500, out_features=64, bias=True)\n",
            "  (16): ReLU(inplace=True)\n",
            "  (17): Linear(in_features=64, out_features=2, bias=True)\n",
            ")\n",
            "starting from epoch: 28\n",
            "starting from loss: tensor(0.2272, device='cuda:0', requires_grad=True)\n",
            "[0.8616666666666667, 0.8583333333333333, 0.8533333333333334, 0.8633333333333333, 0.86, 0.8383333333333334, 0.86, 0.8583333333333333, 0.86, 0.8583333333333333, 0.8666666666666667, 0.87, 0.88, 0.8566666666666667, 0.865, 0.8633333333333333, 0.845, 0.8616666666666667, 0.845, 0.8533333333333334, 0.865, 0.8783333333333333, 0.8566666666666667, 0.8533333333333334, 0.8716666666666667, 0.855, 0.8716666666666667, 0.865, 0.8566666666666667]\n",
            "Starting epoch 28 / 57\n",
            "t = 5, avg_loss = 0.3369\n",
            "t = 10, avg_loss = 0.2910\n",
            "t = 15, avg_loss = 0.3450\n",
            "t = 20, avg_loss = 0.2965\n",
            "t = 25, avg_loss = 0.3147\n",
            "Checking accuracy on train set\n",
            "Got 336 / 400 correct (84.00)\n",
            "acc = 0.840000\n",
            "Starting epoch 29 / 57\n",
            "t = 5, avg_loss = 0.3012\n",
            "t = 10, avg_loss = 0.2972\n",
            "t = 15, avg_loss = 0.3047\n",
            "t = 20, avg_loss = 0.3339\n",
            "t = 25, avg_loss = 0.2774\n",
            "Checking accuracy on train set\n",
            "Got 338 / 400 correct (84.50)\n",
            "acc = 0.845000\n",
            "Starting epoch 30 / 57\n",
            "t = 5, avg_loss = 0.2583\n",
            "t = 10, avg_loss = 0.3042\n",
            "t = 15, avg_loss = 0.2817\n",
            "t = 20, avg_loss = 0.3455\n",
            "t = 25, avg_loss = 0.3216\n",
            "Checking accuracy on train set\n",
            "Got 351 / 400 correct (87.75)\n",
            "acc = 0.877500\n",
            "Starting epoch 31 / 57\n",
            "t = 5, avg_loss = 0.2623\n",
            "t = 10, avg_loss = 0.2966\n",
            "t = 15, avg_loss = 0.2994\n",
            "t = 20, avg_loss = 0.2604\n",
            "t = 25, avg_loss = 0.2876\n",
            "Checking accuracy on train set\n",
            "Got 348 / 400 correct (87.00)\n",
            "acc = 0.870000\n",
            "Starting epoch 32 / 57\n",
            "t = 5, avg_loss = 0.2798\n",
            "t = 10, avg_loss = 0.2937\n",
            "t = 15, avg_loss = 0.2977\n",
            "t = 20, avg_loss = 0.2556\n",
            "t = 25, avg_loss = 0.2735\n",
            "Checking accuracy on train set\n",
            "Got 349 / 400 correct (87.25)\n",
            "acc = 0.872500\n",
            "Starting epoch 33 / 57\n",
            "t = 5, avg_loss = 0.2646\n",
            "t = 10, avg_loss = 0.2890\n",
            "t = 15, avg_loss = 0.2776\n",
            "t = 20, avg_loss = 0.2951\n",
            "t = 25, avg_loss = 0.3365\n",
            "Checking accuracy on train set\n",
            "Got 336 / 400 correct (84.00)\n",
            "acc = 0.840000\n",
            "Starting epoch 34 / 57\n",
            "t = 5, avg_loss = 0.2969\n",
            "t = 10, avg_loss = 0.3090\n",
            "t = 15, avg_loss = 0.2603\n",
            "t = 20, avg_loss = 0.3163\n",
            "t = 25, avg_loss = 0.2903\n",
            "Checking accuracy on train set\n",
            "Got 353 / 400 correct (88.25)\n",
            "acc = 0.882500\n",
            "Starting epoch 35 / 57\n",
            "t = 5, avg_loss = 0.2403\n",
            "t = 10, avg_loss = 0.2934\n",
            "t = 15, avg_loss = 0.2940\n",
            "t = 20, avg_loss = 0.3109\n",
            "t = 25, avg_loss = 0.3026\n",
            "Checking accuracy on train set\n",
            "Got 339 / 400 correct (84.75)\n",
            "acc = 0.847500\n",
            "Starting epoch 36 / 57\n",
            "t = 5, avg_loss = 0.3094\n",
            "t = 10, avg_loss = 0.3063\n",
            "t = 15, avg_loss = 0.2745\n",
            "t = 20, avg_loss = 0.2949\n",
            "t = 25, avg_loss = 0.2793\n",
            "Checking accuracy on train set\n",
            "Got 352 / 400 correct (88.00)\n",
            "acc = 0.880000\n",
            "Starting epoch 37 / 57\n",
            "t = 5, avg_loss = 0.2648\n",
            "t = 10, avg_loss = 0.2436\n",
            "t = 15, avg_loss = 0.2875\n",
            "t = 20, avg_loss = 0.2486\n",
            "t = 25, avg_loss = 0.2741\n",
            "Checking accuracy on train set\n",
            "Got 346 / 400 correct (86.50)\n",
            "acc = 0.865000\n",
            "Starting epoch 38 / 57\n",
            "t = 5, avg_loss = 0.2749\n",
            "t = 10, avg_loss = 0.2782\n",
            "t = 15, avg_loss = 0.3151\n",
            "t = 20, avg_loss = 0.3045\n",
            "t = 25, avg_loss = 0.2366\n",
            "Checking accuracy on train set\n",
            "Got 347 / 400 correct (86.75)\n",
            "acc = 0.867500\n",
            "Starting epoch 39 / 57\n",
            "t = 5, avg_loss = 0.2442\n",
            "t = 10, avg_loss = 0.2586\n",
            "t = 15, avg_loss = 0.2803\n",
            "t = 20, avg_loss = 0.3246\n",
            "t = 25, avg_loss = 0.2698\n",
            "Checking accuracy on train set\n",
            "Got 343 / 400 correct (85.75)\n",
            "acc = 0.857500\n",
            "Starting epoch 40 / 57\n",
            "t = 5, avg_loss = 0.2973\n",
            "t = 10, avg_loss = 0.2530\n",
            "t = 15, avg_loss = 0.2882\n",
            "t = 20, avg_loss = 0.2812\n",
            "t = 25, avg_loss = 0.2381\n",
            "Checking accuracy on train set\n",
            "Got 348 / 400 correct (87.00)\n",
            "acc = 0.870000\n",
            "Starting epoch 41 / 57\n",
            "t = 5, avg_loss = 0.2751\n",
            "t = 10, avg_loss = 0.2923\n",
            "t = 15, avg_loss = 0.2947\n",
            "t = 20, avg_loss = 0.2711\n",
            "t = 25, avg_loss = 0.2682\n",
            "Checking accuracy on train set\n",
            "Got 350 / 400 correct (87.50)\n",
            "acc = 0.875000\n",
            "Starting epoch 42 / 57\n",
            "t = 5, avg_loss = 0.2633\n",
            "t = 10, avg_loss = 0.3050\n",
            "t = 15, avg_loss = 0.2430\n",
            "t = 20, avg_loss = 0.2616\n",
            "t = 25, avg_loss = 0.3325\n",
            "Checking accuracy on train set\n",
            "Got 352 / 400 correct (88.00)\n",
            "acc = 0.880000\n",
            "Starting epoch 43 / 57\n",
            "t = 5, avg_loss = 0.2687\n",
            "t = 10, avg_loss = 0.2489\n",
            "t = 15, avg_loss = 0.2841\n",
            "t = 20, avg_loss = 0.2714\n",
            "t = 25, avg_loss = 0.3008\n",
            "Checking accuracy on train set\n",
            "Got 345 / 400 correct (86.25)\n",
            "acc = 0.862500\n",
            "Starting epoch 44 / 57\n",
            "t = 5, avg_loss = 0.2644\n",
            "t = 10, avg_loss = 0.2935\n",
            "t = 15, avg_loss = 0.3193\n",
            "t = 20, avg_loss = 0.2473\n",
            "t = 25, avg_loss = 0.3203\n",
            "Checking accuracy on train set\n",
            "Got 343 / 400 correct (85.75)\n",
            "acc = 0.857500\n",
            "Starting epoch 45 / 57\n",
            "t = 5, avg_loss = 0.2684\n",
            "t = 10, avg_loss = 0.2652\n",
            "t = 15, avg_loss = 0.2489\n",
            "t = 20, avg_loss = 0.2439\n",
            "t = 25, avg_loss = 0.2720\n",
            "Checking accuracy on train set\n",
            "Got 349 / 400 correct (87.25)\n",
            "acc = 0.872500\n",
            "Starting epoch 46 / 57\n",
            "t = 5, avg_loss = 0.2719\n",
            "t = 10, avg_loss = 0.2795\n",
            "t = 15, avg_loss = 0.2674\n",
            "t = 20, avg_loss = 0.2499\n",
            "t = 25, avg_loss = 0.2444\n",
            "Checking accuracy on train set\n",
            "Got 347 / 400 correct (86.75)\n",
            "acc = 0.867500\n",
            "Starting epoch 47 / 57\n",
            "t = 5, avg_loss = 0.2845\n",
            "t = 10, avg_loss = 0.2300\n",
            "t = 15, avg_loss = 0.2862\n",
            "t = 20, avg_loss = 0.2823\n",
            "t = 25, avg_loss = 0.2560\n",
            "Checking accuracy on train set\n",
            "Got 350 / 400 correct (87.50)\n",
            "acc = 0.875000\n",
            "Starting epoch 48 / 57\n",
            "t = 5, avg_loss = 0.2524\n",
            "t = 10, avg_loss = 0.2638\n",
            "t = 15, avg_loss = 0.2762\n",
            "t = 20, avg_loss = 0.2588\n",
            "t = 25, avg_loss = 0.2788\n",
            "Checking accuracy on train set\n",
            "Got 344 / 400 correct (86.00)\n",
            "acc = 0.860000\n",
            "Starting epoch 49 / 57\n",
            "t = 5, avg_loss = 0.2748\n",
            "t = 10, avg_loss = 0.2735\n",
            "t = 15, avg_loss = 0.3005\n",
            "t = 20, avg_loss = 0.2537\n",
            "t = 25, avg_loss = 0.2455\n",
            "Checking accuracy on train set\n",
            "Got 347 / 400 correct (86.75)\n",
            "acc = 0.867500\n",
            "Starting epoch 50 / 57\n",
            "t = 5, avg_loss = 0.2456\n",
            "t = 10, avg_loss = 0.2333\n",
            "t = 15, avg_loss = 0.2595\n",
            "t = 20, avg_loss = 0.2851\n",
            "t = 25, avg_loss = 0.2903\n",
            "Checking accuracy on train set\n",
            "Got 345 / 400 correct (86.25)\n",
            "acc = 0.862500\n",
            "Starting epoch 51 / 57\n",
            "t = 5, avg_loss = 0.2211\n",
            "t = 10, avg_loss = 0.2841\n",
            "t = 15, avg_loss = 0.2727\n",
            "t = 20, avg_loss = 0.2707\n",
            "t = 25, avg_loss = 0.2710\n",
            "Checking accuracy on train set\n",
            "Got 349 / 400 correct (87.25)\n",
            "acc = 0.872500\n",
            "Starting epoch 52 / 57\n",
            "t = 5, avg_loss = 0.2837\n",
            "t = 10, avg_loss = 0.2399\n",
            "t = 15, avg_loss = 0.2625\n",
            "t = 20, avg_loss = 0.3038\n",
            "t = 25, avg_loss = 0.3022\n",
            "Checking accuracy on train set\n",
            "Got 341 / 400 correct (85.25)\n",
            "acc = 0.852500\n",
            "Starting epoch 53 / 57\n",
            "t = 5, avg_loss = 0.2350\n",
            "t = 10, avg_loss = 0.2446\n",
            "t = 15, avg_loss = 0.2903\n",
            "t = 20, avg_loss = 0.2613\n",
            "t = 25, avg_loss = 0.2779\n",
            "Checking accuracy on train set\n",
            "Got 348 / 400 correct (87.00)\n",
            "acc = 0.870000\n",
            "Starting epoch 54 / 57\n",
            "t = 5, avg_loss = 0.2348\n",
            "t = 10, avg_loss = 0.2356\n",
            "t = 15, avg_loss = 0.2746\n",
            "t = 20, avg_loss = 0.2475\n",
            "t = 25, avg_loss = 0.2734\n",
            "Checking accuracy on train set\n",
            "Got 349 / 400 correct (87.25)\n",
            "acc = 0.872500\n",
            "Starting epoch 55 / 57\n",
            "t = 5, avg_loss = 0.2513\n",
            "t = 10, avg_loss = 0.2845\n",
            "t = 15, avg_loss = 0.2793\n",
            "t = 20, avg_loss = 0.2682\n",
            "t = 25, avg_loss = 0.2425\n",
            "Checking accuracy on train set\n",
            "Got 351 / 400 correct (87.75)\n",
            "acc = 0.877500\n",
            "Starting epoch 56 / 57\n",
            "t = 5, avg_loss = 0.2415\n",
            "t = 10, avg_loss = 0.3070\n",
            "t = 15, avg_loss = 0.2647\n",
            "t = 20, avg_loss = 0.2303\n",
            "t = 25, avg_loss = 0.2716\n",
            "Checking accuracy on train set\n",
            "Got 350 / 400 correct (87.50)\n",
            "acc = 0.875000\n",
            "Starting epoch 57 / 57\n",
            "t = 5, avg_loss = 0.2518\n",
            "t = 10, avg_loss = 0.2561\n",
            "t = 15, avg_loss = 0.2162\n",
            "t = 20, avg_loss = 0.2723\n",
            "t = 25, avg_loss = 0.2859\n",
            "Checking accuracy on train set\n",
            "Got 343 / 400 correct (85.75)\n",
            "acc = 0.857500\n",
            "Checking accuracy on train set\n",
            "Got 350 / 400 correct (87.50)\n",
            "Accurancy:\n"
          ],
          "name": "stdout"
        },
        {
          "output_type": "display_data",
          "data": {
            "image/png": "[encoded data removed]",
            "text/plain": [
              "<Figure size 432x288 with 1 Axes>"
            ]
          },
          "metadata": {
            "tags": [],
            "needs_background": "light"
          }
        },
        {
          "output_type": "stream",
          "text": [
            "Loss:\n"
          ],
          "name": "stdout"
        },
        {
          "output_type": "display_data",
          "data": {
            "image/png": "[encoded data removed]",
            "text/plain": [
              "<Figure size 432x288 with 1 Axes>"
            ]
          },
          "metadata": {
            "tags": [],
            "needs_background": "light"
          }
        }
      ]
    },
    {
      "cell_type": "code",
      "metadata": {
        "id": "tuzlWQ_SePo-",
        "colab_type": "code",
        "colab": {
          "base_uri": "https://localhost:8080/",
          "height": 586
        },
        "outputId": "d3ade58d-65a7-45d9-cae4-87fb947d0bbb"
      },
      "source": [
        "check_accuracy(model_gpu, test_loader, datatype='test')\n",
        "plot_accurancy(acc_list)\n",
        "plot_loss_function(avg_loss_list)"
      ],
      "execution_count": 19,
      "outputs": [
        {
          "output_type": "stream",
          "text": [
            "Checking accuracy on test set\n",
            "Got 180 / 201 correct (89.55)\n",
            "Accurancy:\n"
          ],
          "name": "stdout"
        },
        {
          "output_type": "display_data",
          "data": {
            "image/png": "[encoded data removed]",
            "text/plain": [
              "<Figure size 432x288 with 1 Axes>"
            ]
          },
          "metadata": {
            "tags": [],
            "needs_background": "light"
          }
        },
        {
          "output_type": "stream",
          "text": [
            "Loss:\n"
          ],
          "name": "stdout"
        },
        {
          "output_type": "display_data",
          "data": {
            "image/png": "[encoded data removed]",
            "text/plain": [
              "<Figure size 432x288 with 1 Axes>"
            ]
          },
          "metadata": {
            "tags": [],
            "needs_background": "light"
          }
        }
      ]
    }
  ]
}